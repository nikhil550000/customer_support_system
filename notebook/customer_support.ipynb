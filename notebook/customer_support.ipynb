{
 "cells": [
  {
   "cell_type": "code",
   "execution_count": 1,
   "id": "1d724579",
   "metadata": {},
   "outputs": [],
   "source": [
    "import pandas as pd"
   ]
  },
  {
   "cell_type": "code",
   "execution_count": 2,
   "id": "e52a96af",
   "metadata": {},
   "outputs": [],
   "source": [
    "data = pd.read_csv('/home/nikhilg/Desktop/CUSTOMER_SUPPORT_SYSTEM/data/data.csv')"
   ]
  },
  {
   "cell_type": "code",
   "execution_count": 3,
   "id": "38b3aac9",
   "metadata": {},
   "outputs": [
    {
     "data": {
      "application/vnd.microsoft.datawrangler.viewer.v0+json": {
       "columns": [
        {
         "name": "index",
         "rawType": "int64",
         "type": "integer"
        },
        {
         "name": "product_id",
         "rawType": "object",
         "type": "string"
        },
        {
         "name": "product_title",
         "rawType": "object",
         "type": "string"
        },
        {
         "name": "rating",
         "rawType": "int64",
         "type": "integer"
        },
        {
         "name": "summary",
         "rawType": "object",
         "type": "string"
        },
        {
         "name": "review",
         "rawType": "object",
         "type": "string"
        }
       ],
       "ref": "eabf24f7-ed93-4b17-9292-927e3661081b",
       "rows": [
        [
         "0",
         "ACCFZGAQJGYCYDCM",
         "BoAt Rockerz 235v2 with ASAP charging Version 5.0 Bluetooth Headset",
         "5",
         "Terrific purchase",
         "1-more flexible2-bass is very high3-sound clarity is good 4-battery back up to 6 to 8 hour's 5-main thing is fastest charging system is available in that. Only 20 min charge and get long up to 4 hours back up 6-killing look awesome 7-for gaming that product does not support 100% if you want for gaming then I'll recommend you please don't buy but you want for only music then this product is very well for you.. 8-no more wireless headphones are comparing with that headphones at this pric..."
        ],
        [
         "1",
         "ACCFZGAQJGYCYDCM",
         "BoAt Rockerz 235v2 with ASAP charging Version 5.0 Bluetooth Headset",
         "5",
         "Terrific purchase",
         "Super sound and good looking I like that prize"
        ],
        [
         "2",
         "ACCFZGAQJGYCYDCM",
         "BoAt Rockerz 235v2 with ASAP charging Version 5.0 Bluetooth Headset",
         "5",
         "Super!",
         "Very much satisfied with the device at this price point being from an awesome brand. Design wise , I liked it more than rockerz 255 model.Bought the model blindly on its very first day with zero reviews and it was a wonderful choice I must say.Bluetooth 5.0 enables us to connect devices simultaneously. And vibration motor for calls , its too good."
        ],
        [
         "3",
         "ACCFZGAQJGYCYDCM",
         "BoAt Rockerz 235v2 with ASAP charging Version 5.0 Bluetooth Headset",
         "5",
         "Super!",
         "Nice headphone, bass was very good and sound is clear. I am purchase for calling purpose and best choice even riding on bike wear in one ear and opposite end voice was clear and no complaint for calling.. Battery backup 1 full day"
        ],
        [
         "4",
         "ACCFZGAQJGYCYDCM",
         "BoAt Rockerz 235v2 with ASAP charging Version 5.0 Bluetooth Headset",
         "5",
         "Terrific purchase",
         "Sound quality super battery backup super quality super this price range super and this value for money"
        ],
        [
         "5",
         "ACCFZGAQJGYCYDCM",
         "BoAt Rockerz 235v2 with ASAP charging Version 5.0 Bluetooth Headset",
         "5",
         "Wonderful",
         "Wowwww it's amezing bluetooth nice look, nice price, nice battery back up, I love always flipkart product's and Flipkart replacement and refund policy, you can return or refund after received a demegzed product"
        ],
        [
         "6",
         "ACCFZGAQJGYCYDCM",
         "BoAt Rockerz 235v2 with ASAP charging Version 5.0 Bluetooth Headset",
         "4",
         "Pretty good",
         "Awesome colour! Amazing experience .. but only the charging data cable is not of good quality and adjustable clip is not so tight."
        ],
        [
         "7",
         "ACCFZGAQJGYCYDCM",
         "BoAt Rockerz 235v2 with ASAP charging Version 5.0 Bluetooth Headset",
         "5",
         "Terrific purchase",
         "For the first time, I am posting a review, just because the product compelled me to do so. Icouldn't find a single aspect missed or mis-handled by Boat. Well this is called, quality engineering. Well, some people say Boat enhances bass and thus compensates with clarity, but I would give my neutral and true feedbackBass : 10/10Clarity : 9/10Comfort ease n looks : 15/10Features :10/10The best buy from flipkart yet.."
        ],
        [
         "8",
         "ACCFZGAQJGYCYDCM",
         "BoAt Rockerz 235v2 with ASAP charging Version 5.0 Bluetooth Headset",
         "4",
         "Delightful",
         "First of all the Delivery boy is a good guy. Nice receive and responce. Product is super. Packing also good.  I fell Red color is not sufficient for me. Otherwise totally awesome product. Delivery is too long. Iam taking one week after booking. Thankyou flipcart and boat 235v2 also."
        ],
        [
         "9",
         "ACCFZGAQJGYCYDCM",
         "BoAt Rockerz 235v2 with ASAP charging Version 5.0 Bluetooth Headset",
         "1",
         "Worthless",
         "This headphone is good but not that much as i expected*Pros- 1Good battery backup             2Good sound quality*Cons-1 There's a voice gap between video activity and voice. Voice comes after video activity not both comes together. It is ok when you watch movies and music but if you play pubg with it you will clearly feel the big gap it matters a lot for me. It is not working after 4 month very much disappointedOverall not goodDon't buy please"
        ],
        [
         "10",
         "ACCFZGAQJGYCYDCM",
         "BoAt Rockerz 235v2 with ASAP charging Version 5.0 Bluetooth Headset",
         "5",
         "Simply awesome",
         "It's a very good product ... I'm so happy with this BCz its bass quality & sounds is too good & batry back up Also super"
        ],
        [
         "11",
         "ACCFZGAQJGYCYDCM",
         "BoAt Rockerz 235v2 with ASAP charging Version 5.0 Bluetooth Headset",
         "4",
         "Good choice",
         "Nice build quality.. bass is best it self.. vibrate at call is nice. .. nice support from flipkart and delivery partner"
        ],
        [
         "12",
         "ACCFZGAQJGYCYDCM",
         "BoAt Rockerz 235v2 with ASAP charging Version 5.0 Bluetooth Headset",
         "1",
         "Terrible product",
         "After using for about 8 days, right side of the earphone is not working properly and the volume on right side is  very low. I didn't expect this."
        ],
        [
         "13",
         "ACCFZGAQJGYCYDCM",
         "BoAt Rockerz 235v2 with ASAP charging Version 5.0 Bluetooth Headset",
         "1",
         "Useless product",
         "Mic is not proper recipient persons can't hear proper sound ( every time for call I heard from front I can't hear you so I have to again talk to through Mobile phone no Option useless of wirless meaning)  and sound quality is so loud. Like local headphones. not comfortable to wear for more than1 hrs of uses.tere is no meanings to get replaced again you get same product therefore this is wast of money."
        ],
        [
         "14",
         "ACCFZGAQJGYCYDCM",
         "BoAt Rockerz 235v2 with ASAP charging Version 5.0 Bluetooth Headset",
         "5",
         "Wonderful",
         "Wow flip cart super fast service like  express speed delivery I order 11 am delivery At 5pm I am very happy,  boAt Bluetooth headset is very very excellent product fast charging super totally user friendly go for it"
        ],
        [
         "15",
         "ACCFZGAQJGYCYDCM",
         "BoAt Rockerz 235v2 with ASAP charging Version 5.0 Bluetooth Headset",
         "5",
         "Fabulous!",
         "Very great product at this price I will assure that this is a value for money product and the bass and sound quality was awesome the build quality was great 👌 and this product has a mat finish which gives a class and flagship look this is the best and the fast charging technology was working very well and the ear are fixing suitable in our ear the music quality was great"
        ],
        [
         "16",
         "ACCFZGAQJGYCYDCM",
         "BoAt Rockerz 235v2 with ASAP charging Version 5.0 Bluetooth Headset",
         "4",
         "Very Good",
         "It's very good and its bass is very high This bluetooth is very good best value or money but battery is too tiny.....Battery backup is not long time but it's realy fast charging support so little battery is comfortable with fast charging"
        ],
        [
         "17",
         "ACCFZGAQJGYCYDCM",
         "BoAt Rockerz 235v2 with ASAP charging Version 5.0 Bluetooth Headset",
         "5",
         "Excellent",
         "Good product. Never used bluetooth headset before. Now I am happy to see ease in my work. As I noticed boat marketing their products aggressively in market in recent days. About product it's like awesome having better build quality, bass is good, battery backup is fine and vibration though it vibrates my neck when ever I gets call but still feature is must needed when u are driving. Wanted to give 5star but there is a sentence that \" Nothing is perfect in this imperfect world\" 😄😄😉"
        ],
        [
         "18",
         "ACCFZGAQJGYCYDCM",
         "BoAt Rockerz 235v2 with ASAP charging Version 5.0 Bluetooth Headset",
         "5",
         "Awesome",
         "This review is after 1 month of use .Pro:- 1.Battery backup is genuinely too good, runs almost 1.5 -2 days on a single charge.. and 8hrs on continuous playback.2. Charge very fast,,, 40% just in 15-20 minutes3. Sound is crisp,clear and decent, not too loud.  4. Build quality is awsome nd stylish as well.5.connectivity is super fast nd good with phones.6. Last but not the least,,, its really comfort able nd i didn't feel any discomfort or pain even after continous use of 5 hrs which i ..."
        ],
        [
         "19",
         "ACCFZGAQJGYCYDCM",
         "BoAt Rockerz 235v2 with ASAP charging Version 5.0 Bluetooth Headset",
         "5",
         "Excellent",
         "I like It Boat HP Sound Quality is bestm best And Bass Quality is to good And New V2 product is to good & Fast charging is besttt to save charging  timeing...."
        ],
        [
         "20",
         "ACCFZGAQJGYCYDCM",
         "BoAt Rockerz 235v2 with ASAP charging Version 5.0 Bluetooth Headset",
         "3",
         "Does the job",
         "Hi Seekers, I am writing this review after 2 weeks of daily use, lets start with pros and cons Pros-✓Sounds Quality is good✓ Bass is good enough✓ Look is okay as per this price range ✓ All essential controls are provided✓ Backup is decentConsxx Bluetooth range is too short (even if you are walking by holding phone in your hand you will feel connection disturbances at all times)xx In case of battery get low it continuously gives you a voice signals in every 2 seconds I found its ver..."
        ],
        [
         "21",
         "ACCFZGAQJGYCYDCM",
         "BoAt Rockerz 235v2 with ASAP charging Version 5.0 Bluetooth Headset",
         "4",
         "Nice product",
         "Great product.. I loved it.. As I was using level U.. This product is much more better than that.. Though battery life is just like 8hrs and bass like goosebumps... But when increased bass earplugs starts raddling.. Vibrate feature is awesome.."
        ],
        [
         "22",
         "ACCFZGAQJGYCYDCM",
         "BoAt Rockerz 235v2 with ASAP charging Version 5.0 Bluetooth Headset",
         "4",
         "Nice product",
         "Awesome product happy to have one.Good sound quality in medium volume, with equalizer app could complete the high bass sound. Battery last long 20 min of charge to enjoy whole day.Very light weight, Easy to carry,"
        ],
        [
         "23",
         "ACCFZGAQJGYCYDCM",
         "BoAt Rockerz 235v2 with ASAP charging Version 5.0 Bluetooth Headset",
         "4",
         "Good quality product",
         "It's a very good product... I'm so happy with this Bcz it's bass quality & sounds is too good & battery backup also superb"
        ],
        [
         "24",
         "ACCFZGAQJGYCYDCM",
         "BoAt Rockerz 235v2 with ASAP charging Version 5.0 Bluetooth Headset",
         "5",
         "Terrific",
         "Amazing product   Sound quality was awesome, it has deep bass which I really wanted, I am really satisfied and battery backup was also nice and it also had fast charging facilities"
        ],
        [
         "25",
         "ACCFZGAQJGYCYDCM",
         "BoAt Rockerz 235v2 with ASAP charging Version 5.0 Bluetooth Headset",
         "4",
         "Really Nice",
         "I think it is the best product in this price segment I buy this product after seeing it's sell figure and my decision got right u must buy this product I love it's sound quality but the build quality must be improved and they must give charging adaptor out of the box"
        ],
        [
         "26",
         "ACCFZGAQJGYCYDCM",
         "BoAt Rockerz 235v2 with ASAP charging Version 5.0 Bluetooth Headset",
         "5",
         "Must buy!",
         "Best product at this price loved it. Thank you flipkart for safe delivery 💯😃"
        ],
        [
         "27",
         "ACCFZGAQJGYCYDCM",
         "BoAt Rockerz 235v2 with ASAP charging Version 5.0 Bluetooth Headset",
         "4",
         "Really Nice",
         "Excellent voice clarity superb bass for music lovers. Overall a very good product."
        ],
        [
         "28",
         "ACCFZGAQJGYCYDCM",
         "BoAt Rockerz 235v2 with ASAP charging Version 5.0 Bluetooth Headset",
         "5",
         "Mind-blowing purchase",
         "This earphone is just awsome yaar , everything is just so perfect yaar just go for it blindly ,i tell you u cant find a best product at this price its awsome👌👌👌👌"
        ],
        [
         "29",
         "ACCFZGAQJGYCYDCM",
         "BoAt Rockerz 235v2 with ASAP charging Version 5.0 Bluetooth Headset",
         "5",
         "Best in the market!",
         "It is an amazing product.. For this price... Less weight.. Flexible.. Super sound... Extra feature is call vibration.. Nice one.. Try it.."
        ],
        [
         "30",
         "ACCFZGAQJGYCYDCM",
         "BoAt Rockerz 235v2 with ASAP charging Version 5.0 Bluetooth Headset",
         "5",
         "Excellent",
         "The product was good enough.. Stylish blur color with well designed earphones.. Coming to the specifications sound and bass was superb... Value for money... Batery backup is also good around 6 hours life.... No lag in PUBG... Highly satisfied but have to wait and see how long it works like this"
        ],
        [
         "31",
         "ACCFZGAQJGYCYDCM",
         "BoAt Rockerz 235v2 with ASAP charging Version 5.0 Bluetooth Headset",
         "5",
         "Worth every penny",
         "Boat headset is very clear voice and bass is v good and plus point is fast charging 20 mint to 4 hrs batery backup... One of the best bluetooth headset....osmmm products"
        ],
        [
         "32",
         "ACCFZGAQJGYCYDCM",
         "BoAt Rockerz 235v2 with ASAP charging Version 5.0 Bluetooth Headset",
         "3",
         "Nice",
         "A fine product i would say , well crafted design and good build quality ..  good fit and comfortable to wear ... enough bass to provide u good sound experience .. although not the most premium quality but still considering the price it's well ahead of it .. manages lows and highs well, sound mixing and good listening experience when it comes to music video and others ..the only CON i noticed was the microphone .. i think this device is not built for calling ... sometimes the voice is not eve..."
        ],
        [
         "33",
         "ACCFZGAQJGYCYDCM",
         "BoAt Rockerz 235v2 with ASAP charging Version 5.0 Bluetooth Headset",
         "5",
         "Wonderful",
         "Good product very fast delivery (with in 36 hours only) superb color love it"
        ],
        [
         "34",
         "ACCFZGAQJGYCYDCM",
         "BoAt Rockerz 235v2 with ASAP charging Version 5.0 Bluetooth Headset",
         "4",
         "Nice product",
         "Boat rockerz 235 v2 is the budget blutooth hearphone. All are very good performance only sound quality is slightly poor.. vibration and battery backup is the best part in this product. Bass also very great .. just lysric clearing not proper"
        ],
        [
         "35",
         "ACCFZGAQJGYCYDCM",
         "BoAt Rockerz 235v2 with ASAP charging Version 5.0 Bluetooth Headset",
         "5",
         "Best in the market!",
         "If you are a bass lover then blindly go for it . And I think 8 hours of backup is enough and 4 hours charge in 20 mins .what else we want . Superb"
        ],
        [
         "36",
         "ACCFZGAQJGYCYDCM",
         "BoAt Rockerz 235v2 with ASAP charging Version 5.0 Bluetooth Headset",
         "4",
         "Nice product",
         "Review after about 2months of usage.Before starting let me be clear, THIS DEVICE IS NOT FOR SERIOUS MUSIC LOVERS/AUDIOPHILES.I'm not gonna repeat the same technical aspects of it, you already know what's inside it. So...Coming to the sound, if you just love some BASS and heavy sounds this earphone will become your best buddy in no time. The volume on this is insane. I only use it at 20-30% max. It's very loud. So no complaints there.If you've used some premium earphone from brands lik..."
        ],
        [
         "37",
         "ACCFZGAQJGYCYDCM",
         "BoAt Rockerz 235v2 with ASAP charging Version 5.0 Bluetooth Headset",
         "4",
         "Wonderful",
         "Im a jbl user ..boat 235v2 battery is too good to stay 2 days..fast charging..bass is 5 of 5 but sound of vocal is 4 of 5.. mic is good ..although i bought this in 1299 ..in this range its good"
        ],
        [
         "38",
         "ACCFZGAQJGYCYDCM",
         "BoAt Rockerz 235v2 with ASAP charging Version 5.0 Bluetooth Headset",
         "5",
         "Awesome",
         "The boat 235v2 is really good it's sounds very clear and also good bass. If you think buy a Bluetooth headset go for It. Just sounds and battery backup is awesome."
        ],
        [
         "39",
         "ACCFZGAQJGYCYDCM",
         "BoAt Rockerz 235v2 with ASAP charging Version 5.0 Bluetooth Headset",
         "4",
         "Pretty good",
         "Above from my expectation, after reading the review i opted for not to purchase this product but guys you won't believe it really work, too good sound quality, superb bass overall it is lovelly one....will make ur day sweet.......bass lover will loved it.This boat 235v2 is better than boult pro bass product coz i ordered both the earphone jst as to compare the quality and boat rockerz is jst uncomaprable...perfect tune...superb acaustic....voice calling is far better that boult earphone........"
        ],
        [
         "40",
         "ACCFZGAQJGYCYDCM",
         "BoAt Rockerz 235v2 with ASAP charging Version 5.0 Bluetooth Headset",
         "5",
         "Wonderful",
         "I brought this product as I was looking for a sweat proof headset for my workouts. I got it for 899 and I have to say that am pretty satisfied with the features and the quality that the headset has to deliver. I would definitely recommend this product to my family and friends. Just go for it !!!"
        ],
        [
         "41",
         "ACCFZGAQJGYCYDCM",
         "BoAt Rockerz 235v2 with ASAP charging Version 5.0 Bluetooth Headset",
         "5",
         "Just wow!",
         "Ti's is my first Bluetooth headset it is wonderful and color is more attractive and the sound quality is good and it is good product and value of money is 5star and battery is good"
        ],
        [
         "42",
         "ACCFZGAQJGYCYDCM",
         "BoAt Rockerz 235v2 with ASAP charging Version 5.0 Bluetooth Headset",
         "4",
         "Very Good",
         "Very decent look product. Give superb bass. Mic quality is okok. Design and build is superb. In this price range it worth it."
        ],
        [
         "43",
         "ACCFZGAQJGYCYDCM",
         "BoAt Rockerz 235v2 with ASAP charging Version 5.0 Bluetooth Headset",
         "5",
         "Awesome",
         "Good quality and good product you have to take you will enjoy 👍😍 I just love it 🔥🔥🔥💞"
        ],
        [
         "44",
         "ACCFZGAQJGYCYDCM",
         "BoAt Rockerz 235v2 with ASAP charging Version 5.0 Bluetooth Headset",
         "5",
         "Highly recommended",
         "Awsome Sound Quality 5 * !!Bass Is Awsome 5* !!Degin is Good 3* !!Battery backup much Good 4* !!"
        ],
        [
         "45",
         "ACCFZGAQJGYCYDCM",
         "BoAt Rockerz 235v2 with ASAP charging Version 5.0 Bluetooth Headset",
         "5",
         "Fabulous!",
         "It so nice but nickband so tall but otherwise is best headphone call vibraion and fast charging nice product....."
        ],
        [
         "46",
         "ACCFZGAQJGYCYDCM",
         "BoAt Rockerz 235v2 with ASAP charging Version 5.0 Bluetooth Headset",
         "5",
         "Excellent",
         "It's a Awesome purchase. Value for money. I can't expect that type of sound and connectivity will get in this price range. Last time I bought Boult ear buds and refunded due to charging issue and connectivity issue.  That sound was not as powerful as this Boat headphone provides. Really happy to advise all of you if are searching for Bluetooth headphones please go for it. You will get everything you are searching for.  Thanks Flipcart. And request all of you please go for only Indian Products."
        ],
        [
         "47",
         "ACCFZGAQJGYCYDCM",
         "BoAt Rockerz 235v2 with ASAP charging Version 5.0 Bluetooth Headset",
         "5",
         "Awesome",
         "Very nice very satisfied and sound quality very good bass is excellent overall worth it"
        ],
        [
         "48",
         "ACCFZGAQJGYCYDCM",
         "BoAt Rockerz 235v2 with ASAP charging Version 5.0 Bluetooth Headset",
         "5",
         "Terrific purchase",
         "First of all it looks very perfect and is non fragile and awesome experience using this.....just fast delivery and well packed ....just perfect qs a product can be...and the best part is its mindblowing sound quality thunping my ears....."
        ],
        [
         "49",
         "ACCFZGAQJGYCYDCM",
         "BoAt Rockerz 235v2 with ASAP charging Version 5.0 Bluetooth Headset",
         "5",
         "Best in the market!",
         "I think for this price range, it's one of the best available in market. sound quality is good and loudness is nothing short of excellence. Bluetooth connectivity is too good. Satisfactory with looks and build quality, could have been better."
        ]
       ],
       "shape": {
        "columns": 5,
        "rows": 450
       }
      },
      "text/html": [
       "<div>\n",
       "<style scoped>\n",
       "    .dataframe tbody tr th:only-of-type {\n",
       "        vertical-align: middle;\n",
       "    }\n",
       "\n",
       "    .dataframe tbody tr th {\n",
       "        vertical-align: top;\n",
       "    }\n",
       "\n",
       "    .dataframe thead th {\n",
       "        text-align: right;\n",
       "    }\n",
       "</style>\n",
       "<table border=\"1\" class=\"dataframe\">\n",
       "  <thead>\n",
       "    <tr style=\"text-align: right;\">\n",
       "      <th></th>\n",
       "      <th>product_id</th>\n",
       "      <th>product_title</th>\n",
       "      <th>rating</th>\n",
       "      <th>summary</th>\n",
       "      <th>review</th>\n",
       "    </tr>\n",
       "  </thead>\n",
       "  <tbody>\n",
       "    <tr>\n",
       "      <th>0</th>\n",
       "      <td>ACCFZGAQJGYCYDCM</td>\n",
       "      <td>BoAt Rockerz 235v2 with ASAP charging Version ...</td>\n",
       "      <td>5</td>\n",
       "      <td>Terrific purchase</td>\n",
       "      <td>1-more flexible2-bass is very high3-sound clar...</td>\n",
       "    </tr>\n",
       "    <tr>\n",
       "      <th>1</th>\n",
       "      <td>ACCFZGAQJGYCYDCM</td>\n",
       "      <td>BoAt Rockerz 235v2 with ASAP charging Version ...</td>\n",
       "      <td>5</td>\n",
       "      <td>Terrific purchase</td>\n",
       "      <td>Super sound and good looking I like that prize</td>\n",
       "    </tr>\n",
       "    <tr>\n",
       "      <th>2</th>\n",
       "      <td>ACCFZGAQJGYCYDCM</td>\n",
       "      <td>BoAt Rockerz 235v2 with ASAP charging Version ...</td>\n",
       "      <td>5</td>\n",
       "      <td>Super!</td>\n",
       "      <td>Very much satisfied with the device at this pr...</td>\n",
       "    </tr>\n",
       "    <tr>\n",
       "      <th>3</th>\n",
       "      <td>ACCFZGAQJGYCYDCM</td>\n",
       "      <td>BoAt Rockerz 235v2 with ASAP charging Version ...</td>\n",
       "      <td>5</td>\n",
       "      <td>Super!</td>\n",
       "      <td>Nice headphone, bass was very good and sound i...</td>\n",
       "    </tr>\n",
       "    <tr>\n",
       "      <th>4</th>\n",
       "      <td>ACCFZGAQJGYCYDCM</td>\n",
       "      <td>BoAt Rockerz 235v2 with ASAP charging Version ...</td>\n",
       "      <td>5</td>\n",
       "      <td>Terrific purchase</td>\n",
       "      <td>Sound quality super battery backup super quali...</td>\n",
       "    </tr>\n",
       "    <tr>\n",
       "      <th>...</th>\n",
       "      <td>...</td>\n",
       "      <td>...</td>\n",
       "      <td>...</td>\n",
       "      <td>...</td>\n",
       "      <td>...</td>\n",
       "    </tr>\n",
       "    <tr>\n",
       "      <th>445</th>\n",
       "      <td>ACCEVQZABYWJHRHF</td>\n",
       "      <td>BoAt BassHeads 100 Wired Headset</td>\n",
       "      <td>5</td>\n",
       "      <td>Wonderful</td>\n",
       "      <td>nice product..  color is exactly shown in the ...</td>\n",
       "    </tr>\n",
       "    <tr>\n",
       "      <th>446</th>\n",
       "      <td>ACCEVQZABYWJHRHF</td>\n",
       "      <td>BoAt BassHeads 100 Wired Headset</td>\n",
       "      <td>5</td>\n",
       "      <td>Brilliant</td>\n",
       "      <td>Awesome Headset . I was searching for the same...</td>\n",
       "    </tr>\n",
       "    <tr>\n",
       "      <th>447</th>\n",
       "      <td>ACCEVQZABYWJHRHF</td>\n",
       "      <td>BoAt BassHeads 100 Wired Headset</td>\n",
       "      <td>3</td>\n",
       "      <td>Fair</td>\n",
       "      <td>It's a really perfect earphone. I love it . So...</td>\n",
       "    </tr>\n",
       "    <tr>\n",
       "      <th>448</th>\n",
       "      <td>ACCEVQZABYWJHRHF</td>\n",
       "      <td>BoAt BassHeads 100 Wired Headset</td>\n",
       "      <td>4</td>\n",
       "      <td>Value-for-money</td>\n",
       "      <td>Good earbuds at this price Range and Boat prov...</td>\n",
       "    </tr>\n",
       "    <tr>\n",
       "      <th>449</th>\n",
       "      <td>ACCEVQZABYWJHRHF</td>\n",
       "      <td>BoAt BassHeads 100 Wired Headset</td>\n",
       "      <td>4</td>\n",
       "      <td>Wonderful</td>\n",
       "      <td>a very good earphone in budget sound is awesom...</td>\n",
       "    </tr>\n",
       "  </tbody>\n",
       "</table>\n",
       "<p>450 rows × 5 columns</p>\n",
       "</div>"
      ],
      "text/plain": [
       "           product_id                                      product_title  \\\n",
       "0    ACCFZGAQJGYCYDCM  BoAt Rockerz 235v2 with ASAP charging Version ...   \n",
       "1    ACCFZGAQJGYCYDCM  BoAt Rockerz 235v2 with ASAP charging Version ...   \n",
       "2    ACCFZGAQJGYCYDCM  BoAt Rockerz 235v2 with ASAP charging Version ...   \n",
       "3    ACCFZGAQJGYCYDCM  BoAt Rockerz 235v2 with ASAP charging Version ...   \n",
       "4    ACCFZGAQJGYCYDCM  BoAt Rockerz 235v2 with ASAP charging Version ...   \n",
       "..                ...                                                ...   \n",
       "445  ACCEVQZABYWJHRHF                   BoAt BassHeads 100 Wired Headset   \n",
       "446  ACCEVQZABYWJHRHF                   BoAt BassHeads 100 Wired Headset   \n",
       "447  ACCEVQZABYWJHRHF                   BoAt BassHeads 100 Wired Headset   \n",
       "448  ACCEVQZABYWJHRHF                   BoAt BassHeads 100 Wired Headset   \n",
       "449  ACCEVQZABYWJHRHF                   BoAt BassHeads 100 Wired Headset   \n",
       "\n",
       "     rating            summary  \\\n",
       "0         5  Terrific purchase   \n",
       "1         5  Terrific purchase   \n",
       "2         5             Super!   \n",
       "3         5             Super!   \n",
       "4         5  Terrific purchase   \n",
       "..      ...                ...   \n",
       "445       5          Wonderful   \n",
       "446       5          Brilliant   \n",
       "447       3               Fair   \n",
       "448       4    Value-for-money   \n",
       "449       4          Wonderful   \n",
       "\n",
       "                                                review  \n",
       "0    1-more flexible2-bass is very high3-sound clar...  \n",
       "1       Super sound and good looking I like that prize  \n",
       "2    Very much satisfied with the device at this pr...  \n",
       "3    Nice headphone, bass was very good and sound i...  \n",
       "4    Sound quality super battery backup super quali...  \n",
       "..                                                 ...  \n",
       "445  nice product..  color is exactly shown in the ...  \n",
       "446  Awesome Headset . I was searching for the same...  \n",
       "447  It's a really perfect earphone. I love it . So...  \n",
       "448  Good earbuds at this price Range and Boat prov...  \n",
       "449  a very good earphone in budget sound is awesom...  \n",
       "\n",
       "[450 rows x 5 columns]"
      ]
     },
     "execution_count": 3,
     "metadata": {},
     "output_type": "execute_result"
    }
   ],
   "source": [
    "data"
   ]
  },
  {
   "cell_type": "code",
   "execution_count": null,
   "id": "aaee56c6",
   "metadata": {},
   "outputs": [],
   "source": []
  }
 ],
 "metadata": {
  "kernelspec": {
   "display_name": "Python 3",
   "language": "python",
   "name": "python3"
  },
  "language_info": {
   "codemirror_mode": {
    "name": "ipython",
    "version": 3
   },
   "file_extension": ".py",
   "mimetype": "text/x-python",
   "name": "python",
   "nbconvert_exporter": "python",
   "pygments_lexer": "ipython3",
   "version": "3.10.18"
  }
 },
 "nbformat": 4,
 "nbformat_minor": 5
}
